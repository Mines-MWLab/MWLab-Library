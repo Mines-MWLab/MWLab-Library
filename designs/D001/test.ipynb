{
 "cells": [
  {
   "cell_type": "code",
   "execution_count": 90,
   "id": "d6b3b4e6",
   "metadata": {},
   "outputs": [],
   "source": [
    "sys.path.insert(1, os.path.abspath(os.path.join(os.getcwd(), \"../../scripts/\")))\n",
    "from functools import partial\n",
    "from pathlib import Path\n",
    "import numpy as np\n",
    "import lnoi400\n",
    "import gdsfactory as gf\n",
    "import os\n",
    "import sys\n",
    "import devices\n",
    "\n",
    "@gf.cell\n",
    "def chip_frame():\n",
    "    c = gf.get_component(\"chip_frame\", size=(10_000, 5000), center=(0, 0))\n",
    "    return c\n",
    "\n",
    "chip_layout = chip_frame()\n",
    "\n",
    "input_ext = 10.0\n",
    "double_taper = gf.get_component(\"double_linear_inverse_taper\",input_ext=input_ext,)\n",
    "\n",
    "routing_roc = 50.0"
   ]
  },
  {
   "cell_type": "code",
   "execution_count": 91,
   "id": "fdd24552",
   "metadata": {},
   "outputs": [],
   "source": [
    "trav_wave_eom = devices.tWave_EOM()\n",
    "trav_wave_eom = lnoi400.cells.mzm_unbalanced_high_speed(modulation_length = 3000)\n",
    "\n",
    "chip_xoffset = 220\n",
    "x_in = chip_layout.dxmin + 100\n",
    "in_loc = np.array([x_in, chip_layout.dymin])\n",
    "out_loc = np.array([x_in + trav_wave_eom.dxsize + chip_xoffset, chip_layout.dymax])\n",
    "\n",
    "ec_in = gf.Component()\n",
    "ec_ref = ec_in << double_taper\n",
    "ec_ref.drotate(90.0)\n",
    "ec_ref.dmove(\n",
    "    ec_ref.ports[\"o1\"].dcenter, in_loc - [0.0, 0.5 * input_ext]\n",
    ")\n",
    "ec_in.add_ports(ec_ref.ports)\n",
    "\n",
    "ec_out = gf.Component()\n",
    "ec_ref = ec_out << double_taper\n",
    "ec_ref.drotate(-90.0)\n",
    "ec_ref.dmove(\n",
    "    ec_ref.ports[\"o1\"].dcenter, out_loc + [0.0, 0.5 * input_ext]\n",
    ")\n",
    "ec_out.add_ports(ec_ref.ports)\n",
    "\n",
    "ecs = {\n",
    "    \"in\": ec_in,\n",
    "    \"out\": ec_out,\n",
    "}\n",
    "\n",
    "chip_yoffset = 200.0\n",
    "\n",
    "@gf.cell\n",
    "def trave_wave_eom_circuit(\n",
    "    trav_wave_eom = trav_wave_eom,\n",
    "    ecs = ecs,\n",
    ") -> gf.Component:\n",
    "\n",
    "    c = gf.Component()\n",
    "    trav_wave_eom_ref = c << trav_wave_eom\n",
    "    trav_wave_eom_ref.dmovex(- trav_wave_eom_ref.ports[\"o1\"].dcenter[0] + chip_layout.dxmin + chip_xoffset)\n",
    "    trav_wave_eom_ref.dmovey(chip_layout.dymax - trav_wave_eom_ref.dymax - chip_yoffset)\n",
    "\n",
    "    # Bend spec\n",
    "\n",
    "    routing_bend = partial(\n",
    "        gf.components.bend_euler,\n",
    "        radius=routing_roc,\n",
    "        with_arc_floorplan=True,\n",
    "    )\n",
    "\n",
    "    # Routing to I/O\n",
    "\n",
    "    [c << ec for ec in ecs.values()]\n",
    "\n",
    "    gf.routing.route_single(\n",
    "        c,\n",
    "        trav_wave_eom_ref.ports[\"o1\"],\n",
    "        ecs[\"in\"].ports[\"o2\"],\n",
    "        start_straight_length=0.0,\n",
    "        end_straight_length=5.0,\n",
    "        cross_section=\"xs_rwg1000\",\n",
    "        bend=routing_bend,\n",
    "        straight=\"straight_rwg1000\",\n",
    "    )\n",
    "\n",
    "    gf.routing.route_single(\n",
    "        c,\n",
    "        trav_wave_eom_ref.ports[\"o2\"],\n",
    "        ecs[\"out\"].ports[\"o2\"],\n",
    "        start_straight_length=5.0,\n",
    "        end_straight_length=5.0,\n",
    "        cross_section=\"xs_rwg1000\",\n",
    "        bend=routing_bend,\n",
    "        straight=\"straight_rwg1000\",\n",
    "    )\n",
    "\n",
    "    c.flatten()\n",
    "    c.add_port(name=\"o1\", port=ecs[\"in\"].ports[\"o1\"])\n",
    "    c.add_port(name=\"o2\", port=ecs[\"out\"].ports[\"o1\"])\n",
    "\n",
    "    return c\n",
    "\n",
    "circuit = trave_wave_eom_circuit()"
   ]
  },
  {
   "cell_type": "code",
   "execution_count": 65,
   "id": "a83c679b",
   "metadata": {},
   "outputs": [
    {
     "data": {
      "text/plain": [
       "<bound method ComponentBase.pprint_ports of Component(name=racetrack_30GHzFSR, ports=[], instances=['Unnamed_768_0_0'], locked=True, kcl=DEFAULT)>"
      ]
     },
     "execution_count": 65,
     "metadata": {},
     "output_type": "execute_result"
    }
   ],
   "source": [
    "recetrack_eom = devices.racetrack_30GHzFSR()\n",
    "recetrack_eom.pprint_ports"
   ]
  },
  {
   "cell_type": "code",
   "execution_count": null,
   "id": "657f7dc1",
   "metadata": {},
   "outputs": [],
   "source": [
    "recetrack_eom = lnoi400.cells.mzm_unbalanced_high_speed(modulation_length = 1000)\n",
    "\n",
    "chip_xoffset = 270\n",
    "x_in = chip_layout.dxmin + 100\n",
    "in_loc = np.array([x_in, chip_layout.dymin])\n",
    "out_loc = np.array([x_in + recetrack_eom.dxsize + chip_xoffset, chip_layout.dymax])\n",
    "\n",
    "ec_in = gf.Component()\n",
    "ec_ref = ec_in << double_taper\n",
    "ec_ref.drotate(90.0)\n",
    "ec_ref.dmove(\n",
    "    ec_ref.ports[\"o1\"].dcenter, in_loc - [0.0, 0.5 * input_ext]\n",
    ")\n",
    "ec_in.add_ports(ec_ref.ports)\n",
    "\n",
    "ec_out = gf.Component()\n",
    "ec_ref = ec_out << double_taper\n",
    "ec_ref.drotate(-90.0)\n",
    "ec_ref.dmove(\n",
    "    ec_ref.ports[\"o1\"].dcenter, out_loc + [0.0, 0.5 * input_ext]\n",
    ")\n",
    "ec_out.add_ports(ec_ref.ports)\n",
    "\n",
    "ecs = {\n",
    "    \"in\": ec_in,\n",
    "    \"out\": ec_out,\n",
    "}\n",
    "\n",
    "chip_yoffset = 400.0\n",
    "\n",
    "@gf.cell\n",
    "def recetrack_eom_circuit(\n",
    "    recetrack_eom = recetrack_eom,\n",
    "    ecs = ecs,\n",
    ") -> gf.Component:\n",
    "\n",
    "    c = gf.Component()\n",
    "    recetrack_eom_ref = c << recetrack_eom\n",
    "    recetrack_eom_ref.dmovex(- recetrack_eom_ref.ports[\"o1\"].dcenter[0] + chip_layout.dxmin + chip_xoffset)\n",
    "    recetrack_eom_ref.dmovey(chip_layout.dymax - recetrack_eom_ref.dymax - chip_yoffset)\n",
    "\n",
    "    # Bend spec\n",
    "\n",
    "    routing_bend = partial(\n",
    "        gf.components.bend_euler,\n",
    "        radius=routing_roc,\n",
    "        with_arc_floorplan=True,\n",
    "    )\n",
    "\n",
    "    # Routing to I/O\n",
    "\n",
    "    [c << ec for ec in ecs.values()]\n",
    "\n",
    "    gf.routing.route_single(\n",
    "        c,\n",
    "        recetrack_eom_ref.ports[\"o1\"],\n",
    "        ecs[\"in\"].ports[\"o2\"],\n",
    "        start_straight_length=0.0,\n",
    "        end_straight_length=5.0,\n",
    "        cross_section=\"xs_rwg1000\",\n",
    "        bend=routing_bend,\n",
    "        straight=\"straight_rwg1000\",\n",
    "    )\n",
    "\n",
    "    gf.routing.route_single(\n",
    "        c,\n",
    "        recetrack_eom_ref.ports[\"o2\"],\n",
    "        ecs[\"out\"].ports[\"o2\"],\n",
    "        start_straight_length=5.0,\n",
    "        end_straight_length=5.0,\n",
    "        cross_section=\"xs_rwg1000\",\n",
    "        bend=routing_bend,\n",
    "        straight=\"straight_rwg1000\",\n",
    "    )\n",
    "\n",
    "    c.flatten()\n",
    "    c.add_port(name=\"o1\", port=ecs[\"in\"].ports[\"o1\"])\n",
    "    c.add_port(name=\"o2\", port=ecs[\"out\"].ports[\"o1\"])\n",
    "\n",
    "    return c\n",
    "\n",
    "circuit2 = recetrack_eom_circuit()"
   ]
  },
  {
   "cell_type": "code",
   "execution_count": 93,
   "id": "0f323d25",
   "metadata": {},
   "outputs": [
    {
     "data": {
      "text/plain": [
       "' _ = die.write_gds(gdsdir=Path.cwd()) '"
      ]
     },
     "execution_count": 93,
     "metadata": {},
     "output_type": "execute_result"
    },
    {
     "data": {
      "image/png": "[encoded data removed]",
      "text/plain": [
       "<Figure size 800x600 with 1 Axes>"
      ]
     },
     "metadata": {},
     "output_type": "display_data"
    }
   ],
   "source": [
    "@gf.cell\n",
    "def die_assembled(\n",
    "    chip_layout = chip_layout,\n",
    "    circuit = circuit,\n",
    ") -> gf.Component:\n",
    "    c = gf.Component()\n",
    "    c << chip_layout\n",
    "    c << circuit\n",
    "    c << circuit2\n",
    "    c.add_ports(circuit.ports)\n",
    "    return c\n",
    "\n",
    "die = die_assembled()\n",
    "die.plot()\n",
    "die.show()\n",
    "\"\"\" _ = die.write_gds(gdsdir=Path.cwd()) \"\"\""
   ]
  },
  {
   "cell_type": "code",
   "execution_count": 15,
   "id": "f2a1cc37",
   "metadata": {},
   "outputs": [
    {
     "data": {
      "text/html": [
       "<pre style=\"white-space:pre;overflow-x:auto;line-height:normal;font-family:Menlo,'DejaVu Sans Mono',consolas,'Courier New',monospace\">┏━━━━━━┳━━━━━━━┳━━━━━━━━━━━━━┳━━━━━━━━━━━━━━━┳━━━━━━━━━━━━━━━━━━━━┳━━━━━━━━━━━┓\n",
       "┃<span style=\"font-weight: bold\"> name </span>┃<span style=\"font-weight: bold\"> width </span>┃<span style=\"font-weight: bold\"> orientation </span>┃<span style=\"font-weight: bold\"> layer         </span>┃<span style=\"font-weight: bold\"> center             </span>┃<span style=\"font-weight: bold\"> port_type </span>┃\n",
       "┡━━━━━━╇━━━━━━━╇━━━━━━━━━━━━━╇━━━━━━━━━━━━━━━╇━━━━━━━━━━━━━━━━━━━━╇━━━━━━━━━━━┩\n",
       "│ o1   │ 0.25  │ 270.0       │ LN_SLAB (3/0) │ (100.0, -2520.0)   │ optical   │\n",
       "│ o2   │ 0.25  │ 90.0        │ LN_SLAB (3/0) │ (9747.529, 2520.0) │ optical   │\n",
       "└──────┴───────┴─────────────┴───────────────┴────────────────────┴───────────┘\n",
       "</pre>\n"
      ],
      "text/plain": [
       "┏━━━━━━┳━━━━━━━┳━━━━━━━━━━━━━┳━━━━━━━━━━━━━━━┳━━━━━━━━━━━━━━━━━━━━┳━━━━━━━━━━━┓\n",
       "┃\u001b[1m \u001b[0m\u001b[1mname\u001b[0m\u001b[1m \u001b[0m┃\u001b[1m \u001b[0m\u001b[1mwidth\u001b[0m\u001b[1m \u001b[0m┃\u001b[1m \u001b[0m\u001b[1morientation\u001b[0m\u001b[1m \u001b[0m┃\u001b[1m \u001b[0m\u001b[1mlayer        \u001b[0m\u001b[1m \u001b[0m┃\u001b[1m \u001b[0m\u001b[1mcenter            \u001b[0m\u001b[1m \u001b[0m┃\u001b[1m \u001b[0m\u001b[1mport_type\u001b[0m\u001b[1m \u001b[0m┃\n",
       "┡━━━━━━╇━━━━━━━╇━━━━━━━━━━━━━╇━━━━━━━━━━━━━━━╇━━━━━━━━━━━━━━━━━━━━╇━━━━━━━━━━━┩\n",
       "│ o1   │ 0.25  │ 270.0       │ LN_SLAB (3/0) │ (100.0, -2520.0)   │ optical   │\n",
       "│ o2   │ 0.25  │ 90.0        │ LN_SLAB (3/0) │ (9747.529, 2520.0) │ optical   │\n",
       "└──────┴───────┴─────────────┴───────────────┴────────────────────┴───────────┘\n"
      ]
     },
     "metadata": {},
     "output_type": "display_data"
    }
   ],
   "source": [
    "die.pprint_ports()"
   ]
  },
  {
   "cell_type": "code",
   "execution_count": 89,
   "id": "81980ab9",
   "metadata": {},
   "outputs": [],
   "source": [
    "gf.clear_cache()"
   ]
  }
 ],
 "metadata": {
  "kernelspec": {
   "display_name": "Python 3",
   "language": "python",
   "name": "python3"
  },
  "language_info": {
   "codemirror_mode": {
    "name": "ipython",
    "version": 3
   },
   "file_extension": ".py",
   "mimetype": "text/x-python",
   "name": "python",
   "nbconvert_exporter": "python",
   "pygments_lexer": "ipython3",
   "version": "3.12.9"
  }
 },
 "nbformat": 4,
 "nbformat_minor": 5
}

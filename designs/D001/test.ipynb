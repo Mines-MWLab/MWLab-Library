{
 "cells": [
  {
   "cell_type": "code",
   "execution_count": 42,
   "id": "d6b3b4e6",
   "metadata": {},
   "outputs": [],
   "source": [
    "from functools import partial\n",
    "from pathlib import Path\n",
    "import numpy as np\n",
    "import lnoi400\n",
    "import gdsfactory as gf\n",
    "import os\n",
    "import sys\n",
    "import importlib\n",
    "sys.path.insert(1, os.path.abspath(os.path.join(os.getcwd(), \"../../scripts/\")))\n",
    "import devices"
   ]
  },
  {
   "cell_type": "code",
   "execution_count": null,
   "id": "fdd24552",
   "metadata": {},
   "outputs": [],
   "source": [
    "@gf.cell\n",
    "def chip_frame():\n",
    "    c = gf.get_component(\"chip_frame\", size=(10_000, 5000), center=(0, 0))\n",
    "    return c\n",
    "\n",
    "chip_layout = chip_frame()\n",
    "chip_layout\n",
    "\n",
    "input_ext = 10.0\n",
    "double_taper = gf.get_component(\"double_linear_inverse_taper\",\n",
    "                                input_ext=input_ext,\n",
    "                                )\n",
    "\n",
    "trav_wave_eom = devices.tWave_EOM()\n",
    "lnoi400\n",
    "\n",
    "x_in = 100\n",
    "in_loc = np.array([x_in, chip_layout.dymin])\n",
    "out_loc = np.array([x_in + trav_wave_eom.dxsize + 100, chip_layout.dymax])\n",
    "\n",
    "ec_in = gf.Component()\n",
    "ec_ref = ec_in << double_taper\n",
    "ec_ref.drotate(90.0)\n",
    "ec_ref.dmove(\n",
    "    ec_ref.ports[\"o1\"].dcenter, in_loc + [0.0, 0.5 * input_ext]\n",
    ")\n",
    "ec_in.add_ports(ec_ref.ports)\n",
    "\n",
    "ec_out = gf.Component()\n",
    "ec_ref = ec_out << double_taper\n",
    "ec_ref.drotate(-90.0)\n",
    "ec_ref.dmove(\n",
    "    ec_ref.ports[\"o1\"].dcenter, out_loc - [0.0, 0.5 * input_ext]\n",
    ")\n",
    "ec_out.add_ports(ec_ref.ports)\n",
    "\n",
    "ecs = {\n",
    "    \"in\": ec_in,\n",
    "    \"out\": ec_out,\n",
    "}"
   ]
  },
  {
   "cell_type": "code",
   "execution_count": null,
   "id": "e63e0d2c",
   "metadata": {},
   "outputs": [
    {
     "name": "stdout",
     "output_type": "stream",
     "text": [
      "6453.465\n"
     ]
    }
   ],
   "source": [
    "print(devices.tWave_EOM().dcenter[0])"
   ]
  },
  {
   "cell_type": "code",
   "execution_count": null,
   "id": "cafe2b2e",
   "metadata": {},
   "outputs": [
    {
     "name": "stdout",
     "output_type": "stream",
     "text": [
      "2602.7795\n",
      "6453.465\n",
      "5829.512\n"
     ]
    }
   ],
   "source": [
    "c = gf.Component()\n",
    "\n",
    "\n",
    "trav_wave_eom_ref = c << trav_wave_eom\n",
    "print(trav_wave_eom_ref.dcenter[0])\n",
    "print(trav_wave_eom_ref.dxsize)\n",
    "print(trav_wave_eom_ref.dxmax)"
   ]
  },
  {
   "cell_type": "code",
   "execution_count": 57,
   "id": "27a199cc",
   "metadata": {},
   "outputs": [
    {
     "name": "stdout",
     "output_type": "stream",
     "text": [
      "2602.7795\n",
      "623.953\n",
      "-2525.0\n",
      "100.0\n",
      "-4403.826500000001\n"
     ]
    }
   ],
   "source": [
    "c = gf.Component()\n",
    "trav_wave_eom_ref = c << trav_wave_eom\n",
    "print(trav_wave_eom_ref.dcenter[0])\n",
    "print(np.abs(trav_wave_eom_ref.dxmin))\n",
    "print(chip_layout.dymin)\n",
    "print(ecs[\"in\"].ports[\"o1\"].dcenter[0])\n",
    "print(- trav_wave_eom_ref.dcenter[0] + chip_layout.dymin + np.abs(trav_wave_eom_ref.dxmin) + ecs[\"in\"].ports[\"o1\"].dcenter[0])"
   ]
  },
  {
   "cell_type": "code",
   "execution_count": 60,
   "id": "9b8044b4",
   "metadata": {},
   "outputs": [],
   "source": [
    "routing_roc = 100.0\n",
    "\n",
    "@gf.cell\n",
    "def trave_wave_eom_circuit(\n",
    "    trav_wave_eom = trav_wave_eom,\n",
    "    ecs = ecs,\n",
    ") -> gf.Component:\n",
    "\n",
    "    c = gf.Component()\n",
    "    trav_wave_eom_ref = c << trav_wave_eom\n",
    "    trav_wave_eom_ref.dmovex(- trav_wave_eom_ref.dcenter[0] + chip_layout.dymin + np.abs(trav_wave_eom_ref.dxmin) + ecs[\"in\"].ports[\"o1\"].dcenter[0])\n",
    "    \n",
    "\n",
    "    # Bend spec\n",
    "\n",
    "    routing_bend = partial(\n",
    "        gf.components.bend_euler,\n",
    "        radius=routing_roc,\n",
    "        with_arc_floorplan=True,\n",
    "    )\n",
    "\n",
    "    # Routing to I/O\n",
    "\n",
    "    [c << ec for ec in ecs.values()]\n",
    "\n",
    "    gf.routing.route_single(\n",
    "        c,\n",
    "        trav_wave_eom_ref.ports[\"o1\"],\n",
    "        ecs[\"in\"].ports[\"o2\"],\n",
    "        start_straight_length=5.0,\n",
    "        end_straight_length=5.0,\n",
    "        cross_section=\"xs_rwg1000\",\n",
    "        bend=routing_bend,\n",
    "        straight=\"straight_rwg1000\",\n",
    "    )\n",
    "\n",
    "    gf.routing.route_single(\n",
    "        c,\n",
    "        trav_wave_eom_ref.ports[\"o2\"],\n",
    "        ecs[\"out\"].ports[\"o2\"],\n",
    "        start_straight_length=5.0,\n",
    "        end_straight_length=5.0,\n",
    "        cross_section=\"xs_rwg1000\",\n",
    "        bend=routing_bend,\n",
    "        straight=\"straight_rwg1000\",\n",
    "    )\n",
    "\n",
    "    c.flatten()\n",
    "    c.add_port(name=\"o1\", port=ecs[\"in\"].ports[\"o1\"])\n",
    "    c.add_port(name=\"o2\", port=ecs[\"out\"].ports[\"o1\"])\n",
    "\n",
    "    return c\n",
    "\n",
    "circuit = trave_wave_eom_circuit()\n",
    "circuit.show()"
   ]
  },
  {
   "cell_type": "code",
   "execution_count": 61,
   "id": "0f323d25",
   "metadata": {},
   "outputs": [
    {
     "data": {
      "text/plain": [
       "' _ = die.write_gds(gdsdir=Path.cwd()) '"
      ]
     },
     "execution_count": 61,
     "metadata": {},
     "output_type": "execute_result"
    },
    {
     "data": {
      "image/png": "[encoded data removed]",
      "text/plain": [
       "<Figure size 800x600 with 1 Axes>"
      ]
     },
     "metadata": {},
     "output_type": "display_data"
    }
   ],
   "source": [
    "@gf.cell\n",
    "def die_assembled(\n",
    "    chip_layout = chip_layout,\n",
    "    circuit = circuit,\n",
    ") -> gf.Component:\n",
    "    c = gf.Component()\n",
    "    c << chip_layout\n",
    "    c << circuit\n",
    "    c.add_ports(circuit.ports)\n",
    "    return c\n",
    "\n",
    "die = die_assembled()\n",
    "die.plot()\n",
    "die.show()\n",
    "\"\"\" _ = die.write_gds(gdsdir=Path.cwd()) \"\"\""
   ]
  },
  {
   "cell_type": "code",
   "execution_count": 7,
   "id": "f2a1cc37",
   "metadata": {},
   "outputs": [
    {
     "data": {
      "text/html": [
       "<pre style=\"white-space:pre;overflow-x:auto;line-height:normal;font-family:Menlo,'DejaVu Sans Mono',consolas,'Courier New',monospace\">┏━━━━━━┳━━━━━━━┳━━━━━━━━━━━━━┳━━━━━━━━━━━━━━━┳━━━━━━━━━━━━━━━━━━━━┳━━━━━━━━━━━┓\n",
       "┃<span style=\"font-weight: bold\"> name </span>┃<span style=\"font-weight: bold\"> width </span>┃<span style=\"font-weight: bold\"> orientation </span>┃<span style=\"font-weight: bold\"> layer         </span>┃<span style=\"font-weight: bold\"> center             </span>┃<span style=\"font-weight: bold\"> port_type </span>┃\n",
       "┡━━━━━━╇━━━━━━━╇━━━━━━━━━━━━━╇━━━━━━━━━━━━━━━╇━━━━━━━━━━━━━━━━━━━━╇━━━━━━━━━━━┩\n",
       "│ o1   │ 0.25  │ 90.0        │ LN_SLAB (3/0) │ (-4050.0, 2530.0)  │ optical   │\n",
       "│ o2   │ 0.25  │ 270.0       │ LN_SLAB (3/0) │ (-3800.0, -2530.0) │ optical   │\n",
       "└──────┴───────┴─────────────┴───────────────┴────────────────────┴───────────┘\n",
       "</pre>\n"
      ],
      "text/plain": [
       "┏━━━━━━┳━━━━━━━┳━━━━━━━━━━━━━┳━━━━━━━━━━━━━━━┳━━━━━━━━━━━━━━━━━━━━┳━━━━━━━━━━━┓\n",
       "┃\u001b[1m \u001b[0m\u001b[1mname\u001b[0m\u001b[1m \u001b[0m┃\u001b[1m \u001b[0m\u001b[1mwidth\u001b[0m\u001b[1m \u001b[0m┃\u001b[1m \u001b[0m\u001b[1morientation\u001b[0m\u001b[1m \u001b[0m┃\u001b[1m \u001b[0m\u001b[1mlayer        \u001b[0m\u001b[1m \u001b[0m┃\u001b[1m \u001b[0m\u001b[1mcenter            \u001b[0m\u001b[1m \u001b[0m┃\u001b[1m \u001b[0m\u001b[1mport_type\u001b[0m\u001b[1m \u001b[0m┃\n",
       "┡━━━━━━╇━━━━━━━╇━━━━━━━━━━━━━╇━━━━━━━━━━━━━━━╇━━━━━━━━━━━━━━━━━━━━╇━━━━━━━━━━━┩\n",
       "│ o1   │ 0.25  │ 90.0        │ LN_SLAB (3/0) │ (-4050.0, 2530.0)  │ optical   │\n",
       "│ o2   │ 0.25  │ 270.0       │ LN_SLAB (3/0) │ (-3800.0, -2530.0) │ optical   │\n",
       "└──────┴───────┴─────────────┴───────────────┴────────────────────┴───────────┘\n"
      ]
     },
     "metadata": {},
     "output_type": "display_data"
    }
   ],
   "source": [
    "die.pprint_ports()"
   ]
  },
  {
   "cell_type": "code",
   "execution_count": 58,
   "id": "81980ab9",
   "metadata": {},
   "outputs": [],
   "source": [
    "gf.clear_cache()"
   ]
  }
 ],
 "metadata": {
  "kernelspec": {
   "display_name": "Python 3",
   "language": "python",
   "name": "python3"
  },
  "language_info": {
   "codemirror_mode": {
    "name": "ipython",
    "version": 3
   },
   "file_extension": ".py",
   "mimetype": "text/x-python",
   "name": "python",
   "nbconvert_exporter": "python",
   "pygments_lexer": "ipython3",
   "version": "3.12.9"
  }
 },
 "nbformat": 4,
 "nbformat_minor": 5
}
